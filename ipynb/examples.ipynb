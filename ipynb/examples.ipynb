{
 "cells": [
  {
   "cell_type": "code",
   "execution_count": 91,
   "metadata": {
    "collapsed": false
   },
   "outputs": [
    {
     "name": "stdout",
     "output_type": "stream",
     "text": [
      "The autoreload extension is already loaded. To reload it, use:\n",
      "  %reload_ext autoreload\n"
     ]
    }
   ],
   "source": [
    "import sys\n",
    "from pathlib import Path\n",
    "import shutil\n",
    "import json\n",
    "import csv\n",
    "import re\n",
    "import math\n",
    "\n",
    "from shapely.geometry import Point\n",
    "import requests\n",
    "\n",
    "ROOT = Path('..')\n",
    "sys.path.append(str(ROOT))\n",
    "\n",
    "import wavetrace as wt\n",
    "\n",
    "%load_ext autoreload\n",
    "%autoreload 2\n",
    "\n",
    "TMP_DIR = ROOT/'TMP_DIR'\n"
   ]
  },
  {
   "cell_type": "code",
   "execution_count": 92,
   "metadata": {
    "collapsed": false
   },
   "outputs": [],
   "source": [
    "# # Visually check that SRTM tiles cover NZ by \n",
    "# # making polygons and viewing them at https://geojson.io.\n",
    "\n",
    "# tids = wt.SRTM_NZ_TILE_IDS\n",
    "# collection = {\n",
    "#     'type': 'FeatureCollection', \n",
    "#     'features': list(map(wt.build_feature, tids))\n",
    "#     }\n",
    "# json.dumps(collection)"
   ]
  },
  {
   "cell_type": "code",
   "execution_count": 93,
   "metadata": {
    "collapsed": false
   },
   "outputs": [],
   "source": [
    "# Initialize\n",
    "\n",
    "wt.rm_paths(TMP_DIR)\n",
    "transmitters_path = ROOT/'tests'/'data'/'transmitters_single.csv'\n",
    "high_definition = False\n",
    "if high_definition:\n",
    "    topography_path = TMP_DIR/'srtm1'\n",
    "else:\n",
    "    topography_path = TMP_DIR/'srtm3'\n"
   ]
  },
  {
   "cell_type": "code",
   "execution_count": 94,
   "metadata": {
    "collapsed": false
   },
   "outputs": [
    {
     "name": "stdout",
     "output_type": "stream",
     "text": [
      "GrayWireless_4.az   GrayWireless_4.el   GrayWireless_4.lrp  GrayWireless_4.qth\n"
     ]
    }
   ],
   "source": [
    "# Process transmitters\n",
    "\n",
    "out_path = TMP_DIR/'splat_files'   \n",
    "wt.process_transmitters(transmitters_path, out_path)\n",
    "\n",
    "%ls {out_path}"
   ]
  },
  {
   "cell_type": "code",
   "execution_count": 95,
   "metadata": {
    "collapsed": false
   },
   "outputs": [
    {
     "name": "stdout",
     "output_type": "stream",
     "text": [
      "transmitters= [{'network_name': 'Gray Wireless', 'site_name': '4', 'longitude': 174.336547, 'latitude': -35.712247, 'antenna_height': 10.0, 'frequency': 5725.0, 'power_eirp': 4.0, 'polarization': 0.0, 'bearing': '0', 'horizontal_beamwidth': '', 'vertical_beamwidth': '', 'antenna_downtilt': '', 'extra': '', 'name': 'GrayWireless_4'}]\n",
      "Tiles to download = ['S36E173', 'S36E174', 'S37E173', 'S37E174']\n",
      "S36E173.SRTMGL3.hgt.zip  S37E173.SRTMGL3.hgt.zip\n",
      "S36E174.SRTMGL3.hgt.zip  S37E174.SRTMGL3.hgt.zip\n"
     ]
    }
   ],
   "source": [
    "# Download topography\n",
    "\n",
    "transmitters = wt.read_transmitters(transmitters_path)\n",
    "print('transmitters=', transmitters)\n",
    "\n",
    "tids = wt.get_covering_tiles_ids(transmitters)\n",
    "print('Tiles to download =', tids)\n",
    "\n",
    "wt.download_topography(tids, topography_path, \n",
    "  high_definition=high_definition)\n",
    "\n",
    "%ls {topography_path}"
   ]
  },
  {
   "cell_type": "code",
   "execution_count": 96,
   "metadata": {
    "collapsed": false
   },
   "outputs": [
    {
     "name": "stdout",
     "output_type": "stream",
     "text": [
      "total 28128\n",
      "-rw-r--r--  1 justinblack  staff   3.4M Jun 19 00:06 -36:-35:185:186.sdf\n",
      "-rw-r--r--  1 justinblack  staff   4.0M Jun 19 00:06 -36:-35:186:187.sdf\n",
      "-rw-r--r--  1 justinblack  staff   3.5M Jun 19 00:06 -37:-36:185:186.sdf\n",
      "-rw-r--r--  1 justinblack  staff   2.8M Jun 19 00:06 -37:-36:186:187.sdf\n",
      "-rw-r--r--  1 justinblack  staff     4B Jun 19 00:06 GrayWireless_4.az\n",
      "-rw-r--r--  1 justinblack  staff     4B Jun 19 00:06 GrayWireless_4.el\n",
      "-rw-r--r--  1 justinblack  staff   335B Jun 19 00:06 GrayWireless_4.lrp\n",
      "-rw-r--r--  1 justinblack  staff    43B Jun 19 00:06 GrayWireless_4.qth\n"
     ]
    }
   ],
   "source": [
    "# Process topography\n",
    "\n",
    "out_path = TMP_DIR/'splat_files'\n",
    "wt.process_topography(topography_path, out_path, \n",
    "  high_definition=high_definition)\n",
    "\n",
    "%ll -h {out_path}"
   ]
  },
  {
   "cell_type": "code",
   "execution_count": 97,
   "metadata": {
    "collapsed": false
   },
   "outputs": [
    {
     "name": "stderr",
     "output_type": "stream",
     "text": [
      "WARNING: The convert command is deprecated in IMv7, use \"magick\" instead of \"convert\" or \"magick convert\"\n",
      "\n",
      "WARNING: The convert command is deprecated in IMv7, use \"magick\" instead of \"convert\" or \"magick convert\"\n",
      "\n",
      "\u001b[1;35mModuleNotFoundError\u001b[0m: \u001b[35mNo module named 'numpy.core._multiarray_umath'\u001b[0m\n",
      "\u001b[1;35mModuleNotFoundError\u001b[0m: \u001b[35mNo module named 'numpy.core._multiarray_umath'\u001b[0m\n"
     ]
    },
    {
     "name": "stdout",
     "output_type": "stream",
     "text": [
      "GrayWireless_4-ck.png           GrayWireless_4.prj\n",
      "GrayWireless_4-site_report.txt  GrayWireless_4.shp\n",
      "GrayWireless_4.dbf              GrayWireless_4.shx\n",
      "GrayWireless_4.kml              GrayWireless_4.tif\n",
      "GrayWireless_4.png\n"
     ]
    }
   ],
   "source": [
    "# Compute coverage\n",
    "\n",
    "in_path = TMP_DIR/'splat_files'\n",
    "out_path = TMP_DIR/'coverage_reports'\n",
    "wt.compute_coverage(in_path, out_path, high_definition=high_definition, make_shp=True)\n",
    "\n",
    "%ls {out_path}"
   ]
  },
  {
   "cell_type": "code",
   "execution_count": 98,
   "metadata": {
    "collapsed": false
   },
   "outputs": [],
   "source": [
    "# Compute satellite line-of-sight for the Optus D2 geostationary satellite \n",
    "# at 152 degrees longitude\n",
    "\n",
    "in_path = (TMP_DIR/'srtm3'/'S36E173.SRTMGL3.hgt.zip').resolve()\n",
    "satellite_lon = 152\n",
    "tile_id = wt.get_tile_id(in_path)\n",
    "out_path = TMP_DIR/'{!s}_satellite_los.tif'.format(tile_id)\n",
    "wt.compute_satellite_los(in_path, satellite_lon, out_path)"
   ]
  },
  {
   "cell_type": "code",
   "execution_count": 99,
   "metadata": {
    "collapsed": false
   },
   "outputs": [],
   "source": [
    "# Clean up (commented out to preserve outputs for viewing)\n",
    "\n",
    "# wt.rm_paths(TMP_DIR)"
   ]
  },
  {
   "cell_type": "code",
   "execution_count": null,
   "metadata": {
    "collapsed": true
   },
   "outputs": [],
   "source": []
  }
 ],
 "metadata": {
  "kernelspec": {
   "display_name": "base",
   "language": "python",
   "name": "python3"
  },
  "language_info": {
   "codemirror_mode": {
    "name": "ipython",
    "version": 3
   },
   "file_extension": ".py",
   "mimetype": "text/x-python",
   "name": "python",
   "nbconvert_exporter": "python",
   "pygments_lexer": "ipython3",
   "version": "3.11.5"
  }
 },
 "nbformat": 4,
 "nbformat_minor": 0
}
