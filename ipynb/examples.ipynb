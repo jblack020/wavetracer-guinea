{
 "cells": [
  {
   "cell_type": "code",
   "execution_count": 132,
   "metadata": {
    "collapsed": false
   },
   "outputs": [
    {
     "name": "stdout",
     "output_type": "stream",
     "text": [
      "The autoreload extension is already loaded. To reload it, use:\n",
      "  %reload_ext autoreload\n"
     ]
    }
   ],
   "source": [
    "import sys\n",
    "from pathlib import Path\n",
    "import shutil\n",
    "import json\n",
    "import csv\n",
    "import re\n",
    "import math\n",
    "\n",
    "from shapely.geometry import Point\n",
    "import requests\n",
    "\n",
    "ROOT = Path('..')\n",
    "sys.path.append(str(ROOT))\n",
    "\n",
    "import wavetrace as wt\n",
    "\n",
    "%load_ext autoreload\n",
    "%autoreload 2\n",
    "\n",
    "TMP_DIR = ROOT/'TMP_DIR'\n"
   ]
  },
  {
   "cell_type": "code",
   "execution_count": 133,
   "metadata": {
    "collapsed": false
   },
   "outputs": [],
   "source": [
    "# # Visually check that SRTM tiles cover NZ by \n",
    "# # making polygons and viewing them at https://geojson.io.\n",
    "\n",
    "# tids = wt.SRTM_NZ_TILE_IDS\n",
    "# collection = {\n",
    "#     'type': 'FeatureCollection', \n",
    "#     'features': list(map(wt.build_feature, tids))\n",
    "#     }\n",
    "# json.dumps(collection)"
   ]
  },
  {
   "cell_type": "code",
   "execution_count": 134,
   "metadata": {
    "collapsed": false
   },
   "outputs": [],
   "source": [
    "# Initialize\n",
    "\n",
    "wt.rm_paths(TMP_DIR)\n",
    "transmitters_path = ROOT/'tests'/'data'/'transmitter_data.csv'\n"
   ]
  },
  {
   "cell_type": "code",
   "execution_count": 135,
   "metadata": {
    "collapsed": false
   },
   "outputs": [
    {
     "name": "stdout",
     "output_type": "stream",
     "text": [
      "BBC_Conakry.az   BBC_Conakry.el   BBC_Conakry.lrp  BBC_Conakry.qth\n"
     ]
    }
   ],
   "source": [
    "# Process transmitters\n",
    "\n",
    "out_path = TMP_DIR/'splat_files'   \n",
    "wt.process_transmitters(transmitters_path, out_path)\n",
    "\n",
    "%ls {out_path}"
   ]
  },
  {
   "cell_type": "code",
   "execution_count": 136,
   "metadata": {
    "collapsed": false
   },
   "outputs": [],
   "source": [
    "# Read transmitters\n",
    "\n",
    "transmitters = wt.read_transmitters(transmitters_path)"
   ]
  },
  {
   "cell_type": "code",
   "execution_count": 137,
   "metadata": {
    "collapsed": false
   },
   "outputs": [
    {
     "name": "stderr",
     "output_type": "stream",
     "text": [
      "Converting topography data to SDF:   0%|          | 0/60 [00:00<?, ?it/s]"
     ]
    },
    {
     "name": "stderr",
     "output_type": "stream",
     "text": [
      "Converting topography data to SDF: 100%|██████████| 60/60 [00:41<00:00,  1.44it/s]"
     ]
    },
    {
     "name": "stdout",
     "output_type": "stream",
     "text": [
      "total 585184\n",
      "-rw-r--r--  1 justinblack  staff   5.5M Jun 20 02:18 10:11:10:11.sdf\n",
      "-rw-r--r--  1 justinblack  staff   5.5M Jun 20 02:18 10:11:11:12.sdf\n",
      "-rw-r--r--  1 justinblack  staff   5.5M Jun 20 02:18 10:11:12:13.sdf\n",
      "-rw-r--r--  1 justinblack  staff   5.2M Jun 20 02:18 10:11:13:14.sdf\n",
      "-rw-r--r--  1 justinblack  staff   3.5M Jun 20 02:18 10:11:14:15.sdf\n",
      "-rw-r--r--  1 justinblack  staff   2.8M Jun 20 02:18 10:11:15:16.sdf\n",
      "-rw-r--r--  1 justinblack  staff   5.5M Jun 20 02:18 10:11:7:8.sdf\n",
      "-rw-r--r--  1 justinblack  staff   5.5M Jun 20 02:18 10:11:8:9.sdf\n",
      "-rw-r--r--  1 justinblack  staff   5.5M Jun 20 02:18 10:11:9:10.sdf\n",
      "-rw-r--r--  1 justinblack  staff   5.5M Jun 20 02:18 11:12:10:11.sdf\n",
      "-rw-r--r--  1 justinblack  staff   5.5M Jun 20 02:18 11:12:11:12.sdf\n",
      "-rw-r--r--  1 justinblack  staff   5.7M Jun 20 02:18 11:12:12:13.sdf\n",
      "-rw-r--r--  1 justinblack  staff   5.3M Jun 20 02:18 11:12:13:14.sdf\n",
      "-rw-r--r--  1 justinblack  staff   4.3M Jun 20 02:18 11:12:14:15.sdf\n",
      "-rw-r--r--  1 justinblack  staff   3.1M Jun 20 02:18 11:12:15:16.sdf\n",
      "-rw-r--r--  1 justinblack  staff   5.5M Jun 20 02:18 11:12:7:8.sdf\n",
      "-rw-r--r--  1 justinblack  staff   5.5M Jun 20 02:18 11:12:8:9.sdf\n",
      "-rw-r--r--  1 justinblack  staff   5.5M Jun 20 02:18 11:12:9:10.sdf\n",
      "-rw-r--r--  1 justinblack  staff   5.5M Jun 20 02:18 12:13:10:11.sdf\n",
      "-rw-r--r--  1 justinblack  staff   5.5M Jun 20 02:18 12:13:11:12.sdf\n",
      "-rw-r--r--  1 justinblack  staff   5.3M Jun 20 02:18 12:13:12:13.sdf\n",
      "-rw-r--r--  1 justinblack  staff   4.3M Jun 20 02:18 12:13:13:14.sdf\n",
      "-rw-r--r--  1 justinblack  staff   4.1M Jun 20 02:18 12:13:14:15.sdf\n",
      "-rw-r--r--  1 justinblack  staff   3.9M Jun 20 02:17 12:13:15:16.sdf\n",
      "-rw-r--r--  1 justinblack  staff   5.5M Jun 20 02:18 12:13:7:8.sdf\n",
      "-rw-r--r--  1 justinblack  staff   5.5M Jun 20 02:18 12:13:8:9.sdf\n",
      "-rw-r--r--  1 justinblack  staff   5.5M Jun 20 02:18 12:13:9:10.sdf\n",
      "-rw-r--r--  1 justinblack  staff   3.7M Jun 20 02:18 4:5:7:8.sdf\n",
      "-rw-r--r--  1 justinblack  staff   3.2M Jun 20 02:18 4:5:8:9.sdf\n",
      "-rw-r--r--  1 justinblack  staff   2.7M Jun 20 02:18 4:5:9:10.sdf\n",
      "-rw-r--r--  1 justinblack  staff   2.8M Jun 20 02:18 5:6:10:11.sdf\n",
      "-rw-r--r--  1 justinblack  staff   5.4M Jun 20 02:18 5:6:7:8.sdf\n",
      "-rw-r--r--  1 justinblack  staff   5.3M Jun 20 02:18 5:6:8:9.sdf\n",
      "-rw-r--r--  1 justinblack  staff   3.8M Jun 20 02:18 5:6:9:10.sdf\n",
      "-rw-r--r--  1 justinblack  staff   4.3M Jun 20 02:18 6:7:10:11.sdf\n",
      "-rw-r--r--  1 justinblack  staff   2.9M Jun 20 02:18 6:7:11:12.sdf\n",
      "-rw-r--r--  1 justinblack  staff   5.5M Jun 20 02:18 6:7:7:8.sdf\n",
      "-rw-r--r--  1 justinblack  staff   5.5M Jun 20 02:18 6:7:8:9.sdf\n",
      "-rw-r--r--  1 justinblack  staff   5.4M Jun 20 02:18 6:7:9:10.sdf\n",
      "-rw-r--r--  1 justinblack  staff   5.5M Jun 20 02:18 7:8:10:11.sdf\n",
      "-rw-r--r--  1 justinblack  staff   4.5M Jun 20 02:18 7:8:11:12.sdf\n",
      "-rw-r--r--  1 justinblack  staff   3.2M Jun 20 02:18 7:8:12:13.sdf\n",
      "-rw-r--r--  1 justinblack  staff   2.7M Jun 20 02:18 7:8:13:14.sdf\n",
      "-rw-r--r--  1 justinblack  staff   5.5M Jun 20 02:18 7:8:8:9.sdf\n",
      "-rw-r--r--  1 justinblack  staff   5.5M Jun 20 02:18 7:8:9:10.sdf\n",
      "-rw-r--r--  1 justinblack  staff   5.5M Jun 20 02:18 8:9:10:11.sdf\n",
      "-rw-r--r--  1 justinblack  staff   5.3M Jun 20 02:18 8:9:11:12.sdf\n",
      "-rw-r--r--  1 justinblack  staff   4.0M Jun 20 02:18 8:9:12:13.sdf\n",
      "-rw-r--r--  1 justinblack  staff   2.9M Jun 20 02:18 8:9:13:14.sdf\n",
      "-rw-r--r--  1 justinblack  staff   5.5M Jun 20 02:18 8:9:7:8.sdf\n",
      "-rw-r--r--  1 justinblack  staff   5.5M Jun 20 02:18 8:9:8:9.sdf\n",
      "-rw-r--r--  1 justinblack  staff   5.5M Jun 20 02:18 8:9:9:10.sdf\n",
      "-rw-r--r--  1 justinblack  staff   5.5M Jun 20 02:18 9:10:10:11.sdf\n",
      "-rw-r--r--  1 justinblack  staff   5.5M Jun 20 02:18 9:10:11:12.sdf\n",
      "-rw-r--r--  1 justinblack  staff   4.7M Jun 20 02:18 9:10:12:13.sdf\n",
      "-rw-r--r--  1 justinblack  staff   3.5M Jun 20 02:18 9:10:13:14.sdf\n",
      "-rw-r--r--  1 justinblack  staff   2.7M Jun 20 02:18 9:10:14:15.sdf\n",
      "-rw-r--r--  1 justinblack  staff   5.5M Jun 20 02:18 9:10:7:8.sdf\n",
      "-rw-r--r--  1 justinblack  staff   5.5M Jun 20 02:18 9:10:8:9.sdf\n",
      "-rw-r--r--  1 justinblack  staff   5.5M Jun 20 02:18 9:10:9:10.sdf\n",
      "-rw-r--r--  1 justinblack  staff     4B Jun 20 02:17 BBC_Conakry.az\n",
      "-rw-r--r--  1 justinblack  staff     4B Jun 20 02:17 BBC_Conakry.el\n",
      "-rw-r--r--  1 justinblack  staff   335B Jun 20 02:17 BBC_Conakry.lrp\n",
      "-rw-r--r--  1 justinblack  staff    44B Jun 20 02:17 BBC_Conakry.qth\n"
     ]
    },
    {
     "name": "stderr",
     "output_type": "stream",
     "text": [
      "\n"
     ]
    }
   ],
   "source": [
    "# Process topography\n",
    "\n",
    "PROJECT_ROOT = Path(\"/Users/justinblack/Documents/GitHub/wavetrace\")\n",
    "\n",
    "topography_path = PROJECT_ROOT/ \"tests\"/\"data\"/\"topography\"/\"srtm3\"\n",
    "\n",
    "out_path = TMP_DIR/'splat_files'\n",
    "wt.process_topography(topography_path, out_path, \n",
    "  high_definition=False)\n",
    "\n",
    "%ll -h {out_path}"
   ]
  },
  {
   "cell_type": "code",
   "execution_count": 138,
   "metadata": {
    "collapsed": false
   },
   "outputs": [
    {
     "name": "stderr",
     "output_type": "stream",
     "text": [
      "Computing coverage:   0%|          | 0/1 [00:00<?, ?it/s]"
     ]
    },
    {
     "name": "stdout",
     "output_type": "stream",
     "text": [
      "Transmitter BBC_Conakry has sensitivity -73.65331184532222 dBm\n"
     ]
    },
    {
     "name": "stderr",
     "output_type": "stream",
     "text": [
      "Computing coverage: 100%|██████████| 1/1 [00:54<00:00, 54.44s/it]\n",
      "WARNING: The convert command is deprecated in IMv7, use \"magick\" instead of \"convert\" or \"magick convert\"\n",
      "\n",
      "WARNING: The convert command is deprecated in IMv7, use \"magick\" instead of \"convert\" or \"magick convert\"\n",
      "\n"
     ]
    },
    {
     "name": "stdout",
     "output_type": "stream",
     "text": [
      "BBC_Conakry-ck.png           BBC_Conakry.prj\n",
      "BBC_Conakry-site_report.txt  BBC_Conakry.shp\n",
      "BBC_Conakry.dbf              BBC_Conakry.shx\n",
      "BBC_Conakry.kml              BBC_Conakry.tif\n",
      "BBC_Conakry.png\n"
     ]
    }
   ],
   "source": [
    "# Compute coverage\n",
    "\n",
    "in_path = TMP_DIR/'splat_files'\n",
    "out_path = TMP_DIR/'coverage_reports'\n",
    "wt.compute_coverage(in_path, out_path, high_definition=False, make_shp=True, transmitters=transmitters)\n",
    "\n",
    "%ls {out_path}"
   ]
  }
 ],
 "metadata": {
  "kernelspec": {
   "display_name": "base",
   "language": "python",
   "name": "python3"
  },
  "language_info": {
   "codemirror_mode": {
    "name": "ipython",
    "version": 3
   },
   "file_extension": ".py",
   "mimetype": "text/x-python",
   "name": "python",
   "nbconvert_exporter": "python",
   "pygments_lexer": "ipython3",
   "version": "3.11.5"
  }
 },
 "nbformat": 4,
 "nbformat_minor": 0
}
